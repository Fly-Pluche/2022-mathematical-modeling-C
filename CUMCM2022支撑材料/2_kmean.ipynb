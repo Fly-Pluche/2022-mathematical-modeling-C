{
 "cells": [
  {
   "cell_type": "code",
   "execution_count": 1,
   "metadata": {},
   "outputs": [],
   "source": [
    "import numpy as np\n",
    "import pandas as pd\n",
    "import matplotlib.pyplot as plt\n",
    "\n",
    "from lightgbm import LGBMClassifier\n",
    "\n",
    "from mlxtend.classifier import StackingClassifier\n",
    "from mlxtend.classifier import StackingCVClassifier\n",
    "\n",
    "from sklearn.svm import SVC\n",
    "from sklearn import metrics\n",
    "\n",
    "from sklearn.ensemble import VotingClassifier\n",
    "from sklearn.preprocessing import StandardScaler\n",
    "from sklearn.model_selection import GridSearchCV\n",
    "from sklearn.model_selection import cross_val_score\n",
    "from sklearn.linear_model import LogisticRegression\n",
    "from sklearn.model_selection import train_test_split\n",
    "from sklearn.ensemble import AdaBoostClassifier as ada\n",
    "from sklearn.ensemble import GradientBoostingClassifier\n",
    "from sklearn.ensemble import RandomForestClassifier as RF\n",
    "from sklearn.metrics import roc_auc_score, precision_score, recall_score\n",
    "\n",
    "plt.rcParams['font.sans-serif'] = ['SimHei']\n",
    "plt.rcParams['axes.unicode_minus'] = False"
   ]
  },
  {
   "cell_type": "code",
   "execution_count": 2,
   "metadata": {},
   "outputs": [
    {
     "data": {
      "text/html": [
       "<div>\n",
       "<style scoped>\n",
       "    .dataframe tbody tr th:only-of-type {\n",
       "        vertical-align: middle;\n",
       "    }\n",
       "\n",
       "    .dataframe tbody tr th {\n",
       "        vertical-align: top;\n",
       "    }\n",
       "\n",
       "    .dataframe thead th {\n",
       "        text-align: right;\n",
       "    }\n",
       "</style>\n",
       "<table border=\"1\" class=\"dataframe\">\n",
       "  <thead>\n",
       "    <tr style=\"text-align: right;\">\n",
       "      <th></th>\n",
       "      <th>文物采样点</th>\n",
       "      <th>二氧化硅(SiO2)</th>\n",
       "      <th>氧化钠(Na2O)</th>\n",
       "      <th>氧化钾(K2O)</th>\n",
       "      <th>氧化钙(CaO)</th>\n",
       "      <th>氧化镁(MgO)</th>\n",
       "      <th>氧化铝(Al2O3)</th>\n",
       "      <th>氧化铁(Fe2O3)</th>\n",
       "      <th>氧化铜(CuO)</th>\n",
       "      <th>氧化铅(PbO)</th>\n",
       "      <th>...</th>\n",
       "      <th>氧化锶(SrO)</th>\n",
       "      <th>氧化锡(SnO2)</th>\n",
       "      <th>二氧化硫(SO2)</th>\n",
       "      <th>量化风化</th>\n",
       "      <th>纹饰</th>\n",
       "      <th>颜色</th>\n",
       "      <th>类型</th>\n",
       "      <th>表面风化</th>\n",
       "      <th>总和</th>\n",
       "      <th>label</th>\n",
       "    </tr>\n",
       "  </thead>\n",
       "  <tbody>\n",
       "    <tr>\n",
       "      <th>0</th>\n",
       "      <td>07</td>\n",
       "      <td>92.63</td>\n",
       "      <td>0.033598</td>\n",
       "      <td>0.042751</td>\n",
       "      <td>1.07</td>\n",
       "      <td>0.006069</td>\n",
       "      <td>1.98</td>\n",
       "      <td>0.17</td>\n",
       "      <td>3.24</td>\n",
       "      <td>0.094143</td>\n",
       "      <td>...</td>\n",
       "      <td>0.001306</td>\n",
       "      <td>0.007037</td>\n",
       "      <td>0.047864</td>\n",
       "      <td>2</td>\n",
       "      <td>3</td>\n",
       "      <td>1</td>\n",
       "      <td>高钾</td>\n",
       "      <td>风化</td>\n",
       "      <td>100.0</td>\n",
       "      <td>0</td>\n",
       "    </tr>\n",
       "    <tr>\n",
       "      <th>1</th>\n",
       "      <td>09</td>\n",
       "      <td>95.02</td>\n",
       "      <td>0.020206</td>\n",
       "      <td>0.590000</td>\n",
       "      <td>0.62</td>\n",
       "      <td>0.005404</td>\n",
       "      <td>1.32</td>\n",
       "      <td>0.32</td>\n",
       "      <td>1.55</td>\n",
       "      <td>0.080138</td>\n",
       "      <td>...</td>\n",
       "      <td>0.001554</td>\n",
       "      <td>0.005506</td>\n",
       "      <td>0.043539</td>\n",
       "      <td>2</td>\n",
       "      <td>3</td>\n",
       "      <td>1</td>\n",
       "      <td>高钾</td>\n",
       "      <td>风化</td>\n",
       "      <td>100.0</td>\n",
       "      <td>0</td>\n",
       "    </tr>\n",
       "    <tr>\n",
       "      <th>2</th>\n",
       "      <td>10</td>\n",
       "      <td>96.77</td>\n",
       "      <td>0.015791</td>\n",
       "      <td>0.920000</td>\n",
       "      <td>0.21</td>\n",
       "      <td>0.003872</td>\n",
       "      <td>0.81</td>\n",
       "      <td>0.26</td>\n",
       "      <td>0.84</td>\n",
       "      <td>0.071839</td>\n",
       "      <td>...</td>\n",
       "      <td>0.001368</td>\n",
       "      <td>0.003911</td>\n",
       "      <td>0.034204</td>\n",
       "      <td>2</td>\n",
       "      <td>3</td>\n",
       "      <td>1</td>\n",
       "      <td>高钾</td>\n",
       "      <td>风化</td>\n",
       "      <td>100.0</td>\n",
       "      <td>0</td>\n",
       "    </tr>\n",
       "    <tr>\n",
       "      <th>3</th>\n",
       "      <td>12</td>\n",
       "      <td>94.29</td>\n",
       "      <td>0.038818</td>\n",
       "      <td>1.010000</td>\n",
       "      <td>0.72</td>\n",
       "      <td>0.010529</td>\n",
       "      <td>1.46</td>\n",
       "      <td>0.29</td>\n",
       "      <td>1.65</td>\n",
       "      <td>0.161503</td>\n",
       "      <td>...</td>\n",
       "      <td>0.003337</td>\n",
       "      <td>0.011114</td>\n",
       "      <td>0.086089</td>\n",
       "      <td>2</td>\n",
       "      <td>3</td>\n",
       "      <td>1</td>\n",
       "      <td>高钾</td>\n",
       "      <td>风化</td>\n",
       "      <td>100.0</td>\n",
       "      <td>0</td>\n",
       "    </tr>\n",
       "    <tr>\n",
       "      <th>4</th>\n",
       "      <td>22</td>\n",
       "      <td>92.35</td>\n",
       "      <td>0.000000</td>\n",
       "      <td>0.740000</td>\n",
       "      <td>1.66</td>\n",
       "      <td>0.640000</td>\n",
       "      <td>3.50</td>\n",
       "      <td>0.35</td>\n",
       "      <td>0.55</td>\n",
       "      <td>0.000000</td>\n",
       "      <td>...</td>\n",
       "      <td>0.000000</td>\n",
       "      <td>0.000000</td>\n",
       "      <td>0.000000</td>\n",
       "      <td>2</td>\n",
       "      <td>3</td>\n",
       "      <td>1</td>\n",
       "      <td>高钾</td>\n",
       "      <td>风化</td>\n",
       "      <td>100.0</td>\n",
       "      <td>0</td>\n",
       "    </tr>\n",
       "  </tbody>\n",
       "</table>\n",
       "<p>5 rows × 22 columns</p>\n",
       "</div>"
      ],
      "text/plain": [
       "  文物采样点  二氧化硅(SiO2)  氧化钠(Na2O)  氧化钾(K2O)  氧化钙(CaO)  氧化镁(MgO)  氧化铝(Al2O3)  \\\n",
       "0    07       92.63   0.033598  0.042751      1.07  0.006069        1.98   \n",
       "1    09       95.02   0.020206  0.590000      0.62  0.005404        1.32   \n",
       "2    10       96.77   0.015791  0.920000      0.21  0.003872        0.81   \n",
       "3    12       94.29   0.038818  1.010000      0.72  0.010529        1.46   \n",
       "4    22       92.35   0.000000  0.740000      1.66  0.640000        3.50   \n",
       "\n",
       "   氧化铁(Fe2O3)  氧化铜(CuO)  氧化铅(PbO)  ...  氧化锶(SrO)  氧化锡(SnO2)  二氧化硫(SO2)  量化风化  \\\n",
       "0        0.17      3.24  0.094143  ...  0.001306   0.007037   0.047864     2   \n",
       "1        0.32      1.55  0.080138  ...  0.001554   0.005506   0.043539     2   \n",
       "2        0.26      0.84  0.071839  ...  0.001368   0.003911   0.034204     2   \n",
       "3        0.29      1.65  0.161503  ...  0.003337   0.011114   0.086089     2   \n",
       "4        0.35      0.55  0.000000  ...  0.000000   0.000000   0.000000     2   \n",
       "\n",
       "   纹饰  颜色  类型  表面风化     总和 label  \n",
       "0   3   1  高钾    风化  100.0     0  \n",
       "1   3   1  高钾    风化  100.0     0  \n",
       "2   3   1  高钾    风化  100.0     0  \n",
       "3   3   1  高钾    风化  100.0     0  \n",
       "4   3   1  高钾    风化  100.0     0  \n",
       "\n",
       "[5 rows x 22 columns]"
      ]
     },
     "execution_count": 2,
     "metadata": {},
     "output_type": "execute_result"
    }
   ],
   "source": [
    "data = pd.read_excel('excel/extract/2/高钾.xlsx')\n",
    "data.head()"
   ]
  },
  {
   "cell_type": "code",
   "execution_count": 3,
   "metadata": {},
   "outputs": [
    {
     "name": "stdout",
     "output_type": "stream",
     "text": [
      "(17, 15)\n"
     ]
    }
   ],
   "source": [
    "x = data.loc[:, '二氧化硅(SiO2)':'量化风化']\n",
    "print(x.shape)\n",
    "scaler = StandardScaler()\n",
    "x = scaler.fit_transform(x)"
   ]
  },
  {
   "cell_type": "code",
   "execution_count": 4,
   "metadata": {},
   "outputs": [
    {
     "data": {
      "image/png": "[encoded data removed]",
      "text/plain": [
       "<Figure size 432x288 with 1 Axes>"
      ]
     },
     "metadata": {
      "needs_background": "light"
     },
     "output_type": "display_data"
    }
   ],
   "source": [
    "#肘部法\n",
    "from sklearn.cluster import KMeans\n",
    "import matplotlib.pyplot as plt\n",
    "from sklearn.metrics import silhouette_score\n",
    "import numpy as np\n",
    "inertia=[]\n",
    "si1_score=[]\n",
    "for k in range(2,9) :\n",
    "    kmeans=KMeans(n_clusters=k, random_state=0).fit(x)\n",
    "    inertia.append(np.sqrt(kmeans.inertia_))\n",
    "    si1_score.append(silhouette_score(x,kmeans.labels_))\n",
    "plt.plot(range(2,9) , si1_score, '*-')\n",
    "plt.xlabel('k')\n",
    "plt.title('轮廓系数')\n",
    "plt.savefig('./excel/result/2/轮廓系数_高钾.png')\n",
    "plt.show()"
   ]
  },
  {
   "cell_type": "code",
   "execution_count": 5,
   "metadata": {},
   "outputs": [
    {
     "data": {
      "image/png": "[encoded data removed]",
      "text/plain": [
       "<Figure size 432x288 with 1 Axes>"
      ]
     },
     "metadata": {
      "needs_background": "light"
     },
     "output_type": "display_data"
    }
   ],
   "source": [
    "plt.plot(range(2,9) , inertia, 'o-')\n",
    "plt.xlabel('k')\n",
    "plt.title('肘部法')\n",
    "plt.savefig('./excel/result/2/肘部法_高钾.png')\n",
    "plt.show()\n"
   ]
  },
  {
   "cell_type": "code",
   "execution_count": 6,
   "metadata": {},
   "outputs": [
    {
     "data": {
      "text/plain": [
       "KMeans(max_iter=100, n_clusters=4, random_state=20)"
      ]
     },
     "execution_count": 6,
     "metadata": {},
     "output_type": "execute_result"
    }
   ],
   "source": [
    "model = KMeans(n_clusters=4, max_iter=100, init=\"k-means++\",random_state=20)\n",
    "model.fit(x)"
   ]
  },
  {
   "cell_type": "code",
   "execution_count": 7,
   "metadata": {},
   "outputs": [
    {
     "name": "stderr",
     "output_type": "stream",
     "text": [
      "c:\\Miniconda\\lib\\site-packages\\sklearn\\manifold\\_t_sne.py:783: FutureWarning: The default initialization in TSNE will change from 'random' to 'pca' in 1.2.\n",
      "  FutureWarning,\n",
      "c:\\Miniconda\\lib\\site-packages\\sklearn\\manifold\\_t_sne.py:793: FutureWarning: The default learning rate in TSNE will change from 200.0 to 'auto' in 1.2.\n",
      "  FutureWarning,\n"
     ]
    },
    {
     "data": {
      "image/png": "[encoded data removed]",
      "text/plain": [
       "<Figure size 1080x720 with 1 Axes>"
      ]
     },
     "metadata": {
      "needs_background": "light"
     },
     "output_type": "display_data"
    }
   ],
   "source": [
    "from sklearn.manifold import TSNE\n",
    "\n",
    "\n",
    "t_sne = TSNE()\n",
    "t_sne.fit(x)\n",
    "t_sne = pd.DataFrame(t_sne.embedding_, index=data.index)\n",
    "\n",
    "r = pd.concat([data, pd.Series(model.labels_, index=data.index)], axis=1)\n",
    "r.columns = list(data.columns) + ['聚类类别']\n",
    "r.to_excel('./excel/result/2/k-means_高钾.xlsx')\n",
    "plt.figure(figsize=(15,10))\n",
    "\n",
    "plt.rcParams['font.sans-serif'] = ['SimHei']\n",
    "plt.rcParams['axes.unicode_minus'] = False\n",
    "\n",
    "\n",
    "dd = t_sne[r[u'聚类类别'] == 0]\n",
    "plt.plot(dd[0], dd[1], 'r.',label=0,ms=10)\n",
    "dd = t_sne[r[u'聚类类别'] == 1]\n",
    "plt.plot(dd[0], dd[1], 'go',label=1,ms=10)\n",
    "dd = t_sne[r[u'聚类类别'] == 2]\n",
    "plt.plot(dd[0], dd[1], 'b*',label=2,ms=10)\n",
    "dd = t_sne[r[u'聚类类别'] == 3]\n",
    "plt.plot(dd[0], dd[1], 'o',label=3,ms=10)\n",
    "\n",
    "dd = t_sne[r[u'聚类类别'] == 4]\n",
    "plt.plot(dd[0], dd[1], 'y.',label=4,ms=10)\n",
    "dd = t_sne[r[u'聚类类别'] == 5]\n",
    "plt.plot(dd[0], dd[1], 'g*',label=5,ms=10)\n",
    "plt.title('聚类二维可视化')\n",
    "plt.legend()\n",
    "\n",
    "plt.savefig('./excel/result/2/k-means_高钾.png')\n",
    "plt.show()"
   ]
  }
 ],
 "metadata": {
  "kernelspec": {
   "display_name": "Python 3.7.9 ('base')",
   "language": "python",
   "name": "python3"
  },
  "language_info": {
   "codemirror_mode": {
    "name": "ipython",
    "version": 3
   },
   "file_extension": ".py",
   "mimetype": "text/x-python",
   "name": "python",
   "nbconvert_exporter": "python",
   "pygments_lexer": "ipython3",
   "version": "3.7.9"
  },
  "orig_nbformat": 4,
  "vscode": {
   "interpreter": {
    "hash": "2081760f1c3736c0f23b343f8717a57a2e7acf9e623fea9094d6936a46bdacf7"
   }
  }
 },
 "nbformat": 4,
 "nbformat_minor": 2
}
