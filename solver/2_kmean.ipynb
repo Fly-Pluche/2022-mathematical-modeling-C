{
 "cells": [
  {
   "cell_type": "code",
   "execution_count": 100,
   "metadata": {},
   "outputs": [],
   "source": [
    "import numpy as np\n",
    "import pandas as pd\n",
    "import matplotlib.pyplot as plt\n",
    "\n",
    "from lightgbm import LGBMClassifier\n",
    "\n",
    "from mlxtend.classifier import StackingClassifier\n",
    "from mlxtend.classifier import StackingCVClassifier\n",
    "\n",
    "from sklearn.svm import SVC\n",
    "from sklearn import metrics\n",
    "\n",
    "from sklearn.ensemble import VotingClassifier\n",
    "from sklearn.preprocessing import StandardScaler\n",
    "from sklearn.model_selection import GridSearchCV\n",
    "from sklearn.model_selection import cross_val_score\n",
    "from sklearn.linear_model import LogisticRegression\n",
    "from sklearn.model_selection import train_test_split\n",
    "from sklearn.ensemble import AdaBoostClassifier as ada\n",
    "from sklearn.ensemble import GradientBoostingClassifier\n",
    "from sklearn.ensemble import RandomForestClassifier as RF\n",
    "from sklearn.metrics import roc_auc_score, precision_score, recall_score\n",
    "\n",
    "plt.rcParams['font.sans-serif'] = ['SimHei']\n",
    "plt.rcParams['axes.unicode_minus'] = False"
   ]
  },
  {
   "cell_type": "code",
   "execution_count": 101,
   "metadata": {},
   "outputs": [
    {
     "data": {
      "text/html": [
       "<div>\n",
       "<style scoped>\n",
       "    .dataframe tbody tr th:only-of-type {\n",
       "        vertical-align: middle;\n",
       "    }\n",
       "\n",
       "    .dataframe tbody tr th {\n",
       "        vertical-align: top;\n",
       "    }\n",
       "\n",
       "    .dataframe thead th {\n",
       "        text-align: right;\n",
       "    }\n",
       "</style>\n",
       "<table border=\"1\" class=\"dataframe\">\n",
       "  <thead>\n",
       "    <tr style=\"text-align: right;\">\n",
       "      <th></th>\n",
       "      <th>文物采样点</th>\n",
       "      <th>二氧化硅(SiO2)</th>\n",
       "      <th>氧化钠(Na2O)</th>\n",
       "      <th>氧化钾(K2O)</th>\n",
       "      <th>氧化钙(CaO)</th>\n",
       "      <th>氧化镁(MgO)</th>\n",
       "      <th>氧化铝(Al2O3)</th>\n",
       "      <th>氧化铁(Fe2O3)</th>\n",
       "      <th>氧化铜(CuO)</th>\n",
       "      <th>氧化铅(PbO)</th>\n",
       "      <th>...</th>\n",
       "      <th>五氧化二磷(P2O5)</th>\n",
       "      <th>氧化锶(SrO)</th>\n",
       "      <th>氧化锡(SnO2)</th>\n",
       "      <th>二氧化硫(SO2)</th>\n",
       "      <th>量化风化</th>\n",
       "      <th>纹饰</th>\n",
       "      <th>颜色</th>\n",
       "      <th>类型</th>\n",
       "      <th>表面风化</th>\n",
       "      <th>总和</th>\n",
       "    </tr>\n",
       "  </thead>\n",
       "  <tbody>\n",
       "    <tr>\n",
       "      <th>0</th>\n",
       "      <td>02</td>\n",
       "      <td>36.28</td>\n",
       "      <td>0.020016</td>\n",
       "      <td>1.050000</td>\n",
       "      <td>2.34</td>\n",
       "      <td>1.180000</td>\n",
       "      <td>5.73</td>\n",
       "      <td>1.860000</td>\n",
       "      <td>0.26</td>\n",
       "      <td>47.43</td>\n",
       "      <td>...</td>\n",
       "      <td>3.57</td>\n",
       "      <td>0.19</td>\n",
       "      <td>0.003644</td>\n",
       "      <td>0.028675</td>\n",
       "      <td>2</td>\n",
       "      <td>2</td>\n",
       "      <td>2</td>\n",
       "      <td>铅钡</td>\n",
       "      <td>风化</td>\n",
       "      <td>100.00</td>\n",
       "    </tr>\n",
       "    <tr>\n",
       "      <th>1</th>\n",
       "      <td>08</td>\n",
       "      <td>20.14</td>\n",
       "      <td>0.127769</td>\n",
       "      <td>0.007344</td>\n",
       "      <td>1.48</td>\n",
       "      <td>0.017329</td>\n",
       "      <td>1.34</td>\n",
       "      <td>0.013572</td>\n",
       "      <td>10.41</td>\n",
       "      <td>28.68</td>\n",
       "      <td>...</td>\n",
       "      <td>3.59</td>\n",
       "      <td>0.37</td>\n",
       "      <td>0.013985</td>\n",
       "      <td>2.580000</td>\n",
       "      <td>2</td>\n",
       "      <td>1</td>\n",
       "      <td>3</td>\n",
       "      <td>铅钡</td>\n",
       "      <td>风化</td>\n",
       "      <td>100.00</td>\n",
       "    </tr>\n",
       "    <tr>\n",
       "      <th>2</th>\n",
       "      <td>08严重风化点</td>\n",
       "      <td>4.61</td>\n",
       "      <td>1.257193</td>\n",
       "      <td>0.083635</td>\n",
       "      <td>3.19</td>\n",
       "      <td>0.162292</td>\n",
       "      <td>1.11</td>\n",
       "      <td>0.130625</td>\n",
       "      <td>3.14</td>\n",
       "      <td>32.45</td>\n",
       "      <td>...</td>\n",
       "      <td>7.56</td>\n",
       "      <td>0.53</td>\n",
       "      <td>0.126256</td>\n",
       "      <td>15.030000</td>\n",
       "      <td>2</td>\n",
       "      <td>1</td>\n",
       "      <td>3</td>\n",
       "      <td>铅钡</td>\n",
       "      <td>风化</td>\n",
       "      <td>100.00</td>\n",
       "    </tr>\n",
       "    <tr>\n",
       "      <th>3</th>\n",
       "      <td>11</td>\n",
       "      <td>33.59</td>\n",
       "      <td>0.888276</td>\n",
       "      <td>0.210000</td>\n",
       "      <td>3.51</td>\n",
       "      <td>0.710000</td>\n",
       "      <td>2.69</td>\n",
       "      <td>0.123667</td>\n",
       "      <td>4.93</td>\n",
       "      <td>25.39</td>\n",
       "      <td>...</td>\n",
       "      <td>9.38</td>\n",
       "      <td>0.37</td>\n",
       "      <td>0.077115</td>\n",
       "      <td>0.910942</td>\n",
       "      <td>2</td>\n",
       "      <td>1</td>\n",
       "      <td>2</td>\n",
       "      <td>铅钡</td>\n",
       "      <td>风化</td>\n",
       "      <td>97.39</td>\n",
       "    </tr>\n",
       "    <tr>\n",
       "      <th>4</th>\n",
       "      <td>19</td>\n",
       "      <td>29.64</td>\n",
       "      <td>0.374655</td>\n",
       "      <td>0.053430</td>\n",
       "      <td>2.93</td>\n",
       "      <td>0.590000</td>\n",
       "      <td>3.57</td>\n",
       "      <td>1.330000</td>\n",
       "      <td>3.51</td>\n",
       "      <td>42.82</td>\n",
       "      <td>...</td>\n",
       "      <td>8.83</td>\n",
       "      <td>0.19</td>\n",
       "      <td>0.055317</td>\n",
       "      <td>0.756598</td>\n",
       "      <td>2</td>\n",
       "      <td>2</td>\n",
       "      <td>2</td>\n",
       "      <td>铅钡</td>\n",
       "      <td>风化</td>\n",
       "      <td>100.00</td>\n",
       "    </tr>\n",
       "  </tbody>\n",
       "</table>\n",
       "<p>5 rows × 21 columns</p>\n",
       "</div>"
      ],
      "text/plain": [
       "     文物采样点  二氧化硅(SiO2)  氧化钠(Na2O)  氧化钾(K2O)  氧化钙(CaO)  氧化镁(MgO)  氧化铝(Al2O3)  \\\n",
       "0       02       36.28   0.020016  1.050000      2.34  1.180000        5.73   \n",
       "1       08       20.14   0.127769  0.007344      1.48  0.017329        1.34   \n",
       "2  08严重风化点        4.61   1.257193  0.083635      3.19  0.162292        1.11   \n",
       "3       11       33.59   0.888276  0.210000      3.51  0.710000        2.69   \n",
       "4       19       29.64   0.374655  0.053430      2.93  0.590000        3.57   \n",
       "\n",
       "   氧化铁(Fe2O3)  氧化铜(CuO)  氧化铅(PbO)  ...  五氧化二磷(P2O5)  氧化锶(SrO)  氧化锡(SnO2)  \\\n",
       "0    1.860000      0.26     47.43  ...         3.57      0.19   0.003644   \n",
       "1    0.013572     10.41     28.68  ...         3.59      0.37   0.013985   \n",
       "2    0.130625      3.14     32.45  ...         7.56      0.53   0.126256   \n",
       "3    0.123667      4.93     25.39  ...         9.38      0.37   0.077115   \n",
       "4    1.330000      3.51     42.82  ...         8.83      0.19   0.055317   \n",
       "\n",
       "   二氧化硫(SO2)  量化风化  纹饰  颜色  类型 表面风化      总和  \n",
       "0   0.028675     2   2   2  铅钡   风化  100.00  \n",
       "1   2.580000     2   1   3  铅钡   风化  100.00  \n",
       "2  15.030000     2   1   3  铅钡   风化  100.00  \n",
       "3   0.910942     2   1   2  铅钡   风化   97.39  \n",
       "4   0.756598     2   2   2  铅钡   风化  100.00  \n",
       "\n",
       "[5 rows x 21 columns]"
      ]
     },
     "execution_count": 101,
     "metadata": {},
     "output_type": "execute_result"
    }
   ],
   "source": [
    "data = pd.read_excel('excel/extract/2/铅钡.xlsx')\n",
    "data.head()"
   ]
  },
  {
   "cell_type": "code",
   "execution_count": 110,
   "metadata": {},
   "outputs": [
    {
     "name": "stdout",
     "output_type": "stream",
     "text": [
      "(49, 15)\n"
     ]
    }
   ],
   "source": [
    "x = data.loc[:, '二氧化硅(SiO2)':'量化风化']\n",
    "print(x.shape)\n",
    "scaler = StandardScaler()\n",
    "x = scaler.fit_transform(x)"
   ]
  },
  {
   "cell_type": "code",
   "execution_count": 111,
   "metadata": {},
   "outputs": [
    {
     "data": {
      "image/png": "[encoded data removed]",
      "text/plain": [
       "<Figure size 432x288 with 1 Axes>"
      ]
     },
     "metadata": {
      "needs_background": "light"
     },
     "output_type": "display_data"
    }
   ],
   "source": [
    "#肘部法\n",
    "from sklearn.cluster import KMeans\n",
    "import matplotlib.pyplot as plt\n",
    "from sklearn.metrics import silhouette_score\n",
    "import numpy as np\n",
    "inertia=[]\n",
    "si1_score=[]\n",
    "for k in range(2,9) :\n",
    "    kmeans=KMeans(n_clusters=k, random_state=0).fit(x)\n",
    "    inertia.append(np.sqrt(kmeans.inertia_))\n",
    "    si1_score.append(silhouette_score(x,kmeans.labels_))\n",
    "plt.plot(range(2,9) , si1_score, '*-')\n",
    "plt.xlabel('k')\n",
    "plt.title('轮廓系数')\n",
    "plt.savefig('./excel/result/2/轮廓系数.png')\n",
    "plt.show()"
   ]
  },
  {
   "cell_type": "code",
   "execution_count": 112,
   "metadata": {},
   "outputs": [
    {
     "data": {
      "image/png": "[encoded data removed]",
      "text/plain": [
       "<Figure size 432x288 with 1 Axes>"
      ]
     },
     "metadata": {
      "needs_background": "light"
     },
     "output_type": "display_data"
    }
   ],
   "source": [
    "plt.plot(range(2,9) , inertia, 'o-')\n",
    "plt.xlabel('k')\n",
    "plt.title('肘部法')\n",
    "plt.savefig('./excel/result/2/肘部法.png')\n",
    "plt.show()\n"
   ]
  },
  {
   "cell_type": "code",
   "execution_count": 117,
   "metadata": {},
   "outputs": [
    {
     "data": {
      "text/plain": [
       "KMeans(max_iter=100, n_clusters=6, random_state=20)"
      ]
     },
     "execution_count": 117,
     "metadata": {},
     "output_type": "execute_result"
    }
   ],
   "source": [
    "model = KMeans(n_clusters=6, max_iter=100, init=\"k-means++\",random_state=20)\n",
    "model.fit(x)"
   ]
  },
  {
   "cell_type": "code",
   "execution_count": 119,
   "metadata": {},
   "outputs": [
    {
     "name": "stderr",
     "output_type": "stream",
     "text": [
      "c:\\Miniconda\\lib\\site-packages\\sklearn\\manifold\\_t_sne.py:783: FutureWarning: The default initialization in TSNE will change from 'random' to 'pca' in 1.2.\n",
      "  FutureWarning,\n",
      "c:\\Miniconda\\lib\\site-packages\\sklearn\\manifold\\_t_sne.py:793: FutureWarning: The default learning rate in TSNE will change from 200.0 to 'auto' in 1.2.\n",
      "  FutureWarning,\n"
     ]
    },
    {
     "data": {
      "image/png": "[encoded data removed]",
      "text/plain": [
       "<Figure size 1080x720 with 1 Axes>"
      ]
     },
     "metadata": {
      "needs_background": "light"
     },
     "output_type": "display_data"
    }
   ],
   "source": [
    "from sklearn.manifold import TSNE\n",
    "\n",
    "\n",
    "t_sne = TSNE()\n",
    "t_sne.fit(x)\n",
    "t_sne = pd.DataFrame(t_sne.embedding_, index=data.index)\n",
    "\n",
    "r = pd.concat([data, pd.Series(model.labels_, index=data.index)], axis=1)\n",
    "r.columns = list(data.columns) + ['聚类类别']\n",
    "r.to_excel('./excel/result/2/k-means_铅钡.xlsx')\n",
    "plt.figure(figsize=(15,10))\n",
    "\n",
    "plt.rcParams['font.sans-serif'] = ['SimHei']\n",
    "plt.rcParams['axes.unicode_minus'] = False\n",
    "\n",
    "\n",
    "dd = t_sne[r[u'聚类类别'] == 0]\n",
    "plt.plot(dd[0], dd[1], 'r.',label=0)\n",
    "dd = t_sne[r[u'聚类类别'] == 1]\n",
    "plt.plot(dd[0], dd[1], 'go',label=1)\n",
    "dd = t_sne[r[u'聚类类别'] == 2]\n",
    "plt.plot(dd[0], dd[1], 'b*',label=2)\n",
    "dd = t_sne[r[u'聚类类别'] == 3]\n",
    "plt.plot(dd[0], dd[1], 'o',label=3)\n",
    "\n",
    "dd = t_sne[r[u'聚类类别'] == 4]\n",
    "plt.plot(dd[0], dd[1], 'y.',label=4)\n",
    "dd = t_sne[r[u'聚类类别'] == 5]\n",
    "plt.plot(dd[0], dd[1], 'g*',label=5)\n",
    "plt.title('聚类二维可视化')\n",
    "plt.legend()\n",
    "\n",
    "plt.savefig('./excel/result/2/k-means_铅钡.png')\n",
    "plt.show()"
   ]
  }
 ],
 "metadata": {
  "kernelspec": {
   "display_name": "Python 3.7.9 ('base')",
   "language": "python",
   "name": "python3"
  },
  "language_info": {
   "codemirror_mode": {
    "name": "ipython",
    "version": 3
   },
   "file_extension": ".py",
   "mimetype": "text/x-python",
   "name": "python",
   "nbconvert_exporter": "python",
   "pygments_lexer": "ipython3",
   "version": "3.7.9"
  },
  "orig_nbformat": 4,
  "vscode": {
   "interpreter": {
    "hash": "2081760f1c3736c0f23b343f8717a57a2e7acf9e623fea9094d6936a46bdacf7"
   }
  }
 },
 "nbformat": 4,
 "nbformat_minor": 2
}
